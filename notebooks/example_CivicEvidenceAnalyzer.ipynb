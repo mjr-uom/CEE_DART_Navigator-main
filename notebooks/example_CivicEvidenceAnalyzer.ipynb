{
 "cells": [
  {
   "cell_type": "code",
   "execution_count": 1,
   "metadata": {},
   "outputs": [],
   "source": [
    "import sys\n",
    "import importlib\n",
    "sys.path.append(r'C:\\Users\\owysocky\\Documents\\GitHub\\CCE_scGeneRAI\\source\\investigate_and_compare')\n",
    "import civic_evidence_code\n",
    "importlib.reload(civic_evidence_code)\n",
    "import pandas as pd\n",
    "import os"
   ]
  },
  {
   "cell_type": "markdown",
   "metadata": {},
   "source": [
    "Define list of genes to investigate and get relevant info from civicdb (https://civicdb.org/welcome)"
   ]
  },
  {
   "cell_type": "code",
   "execution_count": 2,
   "metadata": {},
   "outputs": [],
   "source": [
    "path = r'C:\\Users\\owysocky\\Documents\\GitHub\\CCE_scGeneRAI\\resources\\civicdb'\n",
    "\n",
    "path_to_save = os.getcwd()\n",
    "\n",
    "gene_list = ['CSF1R', 'MYB', 'AXL', 'AREG'] # example list of genes\n",
    "# Example usage:\n"
   ]
  },
  {
   "cell_type": "markdown",
   "metadata": {},
   "source": [
    "Create CivicEvidenceAnalyzer object"
   ]
  },
  {
   "cell_type": "code",
   "execution_count": 3,
   "metadata": {},
   "outputs": [],
   "source": [
    "analyzer = civic_evidence_code.CivicEvidenceAnalyzer(path, gene_list)\n"
   ]
  },
  {
   "cell_type": "code",
   "execution_count": 177,
   "metadata": {},
   "outputs": [
    {
     "name": "stdout",
     "output_type": "stream",
     "text": [
      "Help on CivicEvidenceAnalyzer in module civic_evidence_code object:\n",
      "\n",
      "class CivicEvidenceAnalyzer(builtins.object)\n",
      " |  CivicEvidenceAnalyzer(path, gene_list)\n",
      " |  \n",
      " |  Methods defined here:\n",
      " |  \n",
      " |  __init__(self, path, gene_list)\n",
      " |      Initializes the class with the given path and gene list, and loads several CSV files into pandas DataFrames.\n",
      " |      Args:\n",
      " |          path (str): The file path where the CSV files are located.\n",
      " |          gene_list (list): A list of genes to be used in the analysis.\n",
      " |      Attributes:\n",
      " |          path (str): The file path where the CSV files are located.\n",
      " |          gene_list (list): A list of genes to be used in the analysis.\n",
      " |          features (pd.DataFrame): DataFrame containing features from 'civic_all_features_simple.csv'.\n",
      " |          profiles (pd.DataFrame): DataFrame containing molecular profiles from 'civic_all_molecular_profiles_simple.csv'.\n",
      " |          gene_info (pd.DataFrame): DataFrame containing gene information from 'civic_gene_info.csv'.\n",
      " |          civic_map (pd.DataFrame): DataFrame containing civic map data from 'civic_map.csv'.\n",
      " |          feature_details_dict (dict or None): Dictionary to store feature details, initialized as None.\n",
      " |          matching_features (list or None): List to store matching features, initialized as None.\n",
      " |  \n",
      " |  add_evidence_to_dict(self)\n",
      " |      Adds evidence information to the feature details dictionary.\n",
      " |      This method reads evidence data from a CSV file and matches it with features\n",
      " |      in the `matching_features` DataFrame. It then updates the `feature_details_dict`\n",
      " |      with the corresponding evidence statements.\n",
      " |      Returns:\n",
      " |          dict: Updated feature details dictionary with added evidence information,\n",
      " |                or None if `feature_details_dict` is not defined.\n",
      " |      Raises:\n",
      " |          Warning: If `feature_details_dict` is not defined, a warning is logged.\n",
      " |  \n",
      " |  contains_gene(self, aliases)\n",
      " |      Check if any gene from self.gene_list is present in the provided aliases.\n",
      " |      \n",
      " |      Parameters:\n",
      " |      aliases (list or str): A list of gene aliases or a string representation of a list of gene aliases.\n",
      " |      \n",
      " |      Returns:\n",
      " |      bool: True if any gene from self.gene_list is found in aliases, False otherwise.\n",
      " |  \n",
      " |  create_feature_details_dict(self)\n",
      " |      Creates a dictionary containing detailed information about features.\n",
      " |      This method filters features and constructs a dictionary where each key is a feature name and the value is another\n",
      " |      dictionary containing the following details:\n",
      " |          - Description: A description of the feature.\n",
      " |          - Summary: A summary of the gene associated with the feature.\n",
      " |          - Molecular_profiles: A list of summaries of molecular profiles associated with the gene.\n",
      " |      Returns:\n",
      " |          dict: A dictionary with feature names as keys and their details as values.\n",
      " |  \n",
      " |  filter_features(self)\n",
      " |      Filters the features based on the presence of a gene in their aliases.\n",
      " |      This method applies a filter to the 'aliases' column of the features DataFrame,\n",
      " |      retaining only the rows where the 'aliases' contain a gene as determined by the\n",
      " |      `contains_gene` method.\n",
      " |      Returns:\n",
      " |          DataFrame: A DataFrame containing only the features that match the gene criteria.\n",
      " |  \n",
      " |  save_json_to_file(self, directory_path)\n",
      " |      Save the JSON feature details to a file with a proper name.\n",
      " |      Args:\n",
      " |          directory_path (str): The directory path where the JSON file will be saved.\n",
      " |      Returns:\n",
      " |          None\n",
      " |      Logs:\n",
      " |          - A warning if `json_feature_details` is not defined.\n",
      " |          - An info message indicating the file path where the JSON data was saved.\n",
      " |  \n",
      " |  to_json(self)\n",
      " |      Convert the feature details dictionary to a JSON formatted string.\n",
      " |      This method converts the `feature_details_dict` attribute to a JSON formatted string\n",
      " |      and stores it in the `json_feature_details` attribute. If `feature_details_dict` is\n",
      " |      not defined, a warning is logged and the method returns None.\n",
      " |      Returns:\n",
      " |          str: A JSON formatted string representation of `feature_details_dict` if it is defined.\n",
      " |          None: If `feature_details_dict` is not defined.\n",
      " |  \n",
      " |  ----------------------------------------------------------------------\n",
      " |  Data descriptors defined here:\n",
      " |  \n",
      " |  __dict__\n",
      " |      dictionary for instance variables\n",
      " |  \n",
      " |  __weakref__\n",
      " |      list of weak references to the object\n",
      "\n"
     ]
    }
   ],
   "source": [
    "help(analyzer)"
   ]
  },
  {
   "cell_type": "markdown",
   "metadata": {},
   "source": [
    "All features (genes) loaded from a static file, created using civicpy."
   ]
  },
  {
   "cell_type": "code",
   "execution_count": 178,
   "metadata": {},
   "outputs": [
    {
     "data": {
      "application/vnd.microsoft.datawrangler.viewer.v0+json": {
       "columns": [
        {
         "name": "index",
         "rawType": "int64",
         "type": "integer"
        },
        {
         "name": "feature_id",
         "rawType": "int64",
         "type": "integer"
        },
        {
         "name": "feature_name",
         "rawType": "object",
         "type": "string"
        },
        {
         "name": "aliases",
         "rawType": "object",
         "type": "string"
        },
        {
         "name": "description",
         "rawType": "object",
         "type": "unknown"
        }
       ],
       "conversionMethod": "pd.DataFrame",
       "ref": "8a04edef-9d3d-4e25-9720-30245ca5f6b8",
       "rows": [
        [
         "0",
         "32",
         "MEF2D",
         "['MEF2D']",
         null
        ],
        [
         "1",
         "33",
         "CSF1R",
         "['BANDDOS', 'C-FMS', 'CD115', 'CSF-1R', 'CSF1R', 'CSFR', 'FIM2', 'FMS', 'GPSC', 'HDLS', 'HDLS1', 'M-CSF-R']",
         null
        ],
        [
         "2",
         "34",
         "MGMT",
         "['MGMT']",
         null
        ],
        [
         "3",
         "36",
         "NRAS",
         "['ALPS4', 'CMNS', 'KRAS', 'N-ras', 'NCMS', 'NRAS', 'NRAS1', 'NS6']",
         "Mutations in the RAS family of proteins have frequently been observed across cancer types. The amino acid positions G12, G13 and Q61 account for the overwhelming majority of these mutations. The isoforms, despite their raw similarity, also behave very differently when expressed in non-native tissue types, likely due to differences in the C-terminal hyper-variable regions. Mis-regulation of isoform expression has been shown to be a driving event in cancer, as well as missense mutations at the three hotspots previously mentioned. While highly recurrent in cancer, targeting these RAS mutants has also been very elusive, and has not yet become common practice in the clinic."
        ],
        [
         "4",
         "37",
         "PIK3CA",
         "['CCM4', 'CLAPO', 'CLOVE', 'CWS5', 'HMH', 'MCAP', 'MCM', 'MCMTC', 'PI3K', 'PI3K-alpha', 'PIK3CA', 'p110-alpha']",
         "PIK3CA is the most recurrently mutated gene in breast cancer, and has been found to important in a number of cancer types. An integral part of the PI3K pathway, PIK3CA has long been described as an oncogene, with two main hotspots for activating mutations, the 542/545 region of the helical domain, and the 1047 region of the kinase domain. PIK3CA, and its interaction with the AKT and mTOR pathways, is the subject of an immense amount of research and development, and PI3K inhibition has seen some limited success in recent clinical trials. While monotherapies seem to be limited in their potential, there is a recent interest in pursuing PI3K inhibition as part of a combination therapy regiment with inhibition partners including TKI's, MEK inhibitors, PARP inhibitors, and in breast cancer, aromatase inhibitors."
        ]
       ],
       "shape": {
        "columns": 4,
        "rows": 5
       }
      },
      "text/html": [
       "<div>\n",
       "<style scoped>\n",
       "    .dataframe tbody tr th:only-of-type {\n",
       "        vertical-align: middle;\n",
       "    }\n",
       "\n",
       "    .dataframe tbody tr th {\n",
       "        vertical-align: top;\n",
       "    }\n",
       "\n",
       "    .dataframe thead th {\n",
       "        text-align: right;\n",
       "    }\n",
       "</style>\n",
       "<table border=\"1\" class=\"dataframe\">\n",
       "  <thead>\n",
       "    <tr style=\"text-align: right;\">\n",
       "      <th></th>\n",
       "      <th>feature_id</th>\n",
       "      <th>feature_name</th>\n",
       "      <th>aliases</th>\n",
       "      <th>description</th>\n",
       "    </tr>\n",
       "  </thead>\n",
       "  <tbody>\n",
       "    <tr>\n",
       "      <th>0</th>\n",
       "      <td>32</td>\n",
       "      <td>MEF2D</td>\n",
       "      <td>['MEF2D']</td>\n",
       "      <td>NaN</td>\n",
       "    </tr>\n",
       "    <tr>\n",
       "      <th>1</th>\n",
       "      <td>33</td>\n",
       "      <td>CSF1R</td>\n",
       "      <td>['BANDDOS', 'C-FMS', 'CD115', 'CSF-1R', 'CSF1R...</td>\n",
       "      <td>NaN</td>\n",
       "    </tr>\n",
       "    <tr>\n",
       "      <th>2</th>\n",
       "      <td>34</td>\n",
       "      <td>MGMT</td>\n",
       "      <td>['MGMT']</td>\n",
       "      <td>NaN</td>\n",
       "    </tr>\n",
       "    <tr>\n",
       "      <th>3</th>\n",
       "      <td>36</td>\n",
       "      <td>NRAS</td>\n",
       "      <td>['ALPS4', 'CMNS', 'KRAS', 'N-ras', 'NCMS', 'NR...</td>\n",
       "      <td>Mutations in the RAS family of proteins have f...</td>\n",
       "    </tr>\n",
       "    <tr>\n",
       "      <th>4</th>\n",
       "      <td>37</td>\n",
       "      <td>PIK3CA</td>\n",
       "      <td>['CCM4', 'CLAPO', 'CLOVE', 'CWS5', 'HMH', 'MCA...</td>\n",
       "      <td>PIK3CA is the most recurrently mutated gene in...</td>\n",
       "    </tr>\n",
       "  </tbody>\n",
       "</table>\n",
       "</div>"
      ],
      "text/plain": [
       "   feature_id feature_name                                            aliases  \\\n",
       "0          32        MEF2D                                          ['MEF2D']   \n",
       "1          33        CSF1R  ['BANDDOS', 'C-FMS', 'CD115', 'CSF-1R', 'CSF1R...   \n",
       "2          34         MGMT                                           ['MGMT']   \n",
       "3          36         NRAS  ['ALPS4', 'CMNS', 'KRAS', 'N-ras', 'NCMS', 'NR...   \n",
       "4          37       PIK3CA  ['CCM4', 'CLAPO', 'CLOVE', 'CWS5', 'HMH', 'MCA...   \n",
       "\n",
       "                                         description  \n",
       "0                                                NaN  \n",
       "1                                                NaN  \n",
       "2                                                NaN  \n",
       "3  Mutations in the RAS family of proteins have f...  \n",
       "4  PIK3CA is the most recurrently mutated gene in...  "
      ]
     },
     "execution_count": 178,
     "metadata": {},
     "output_type": "execute_result"
    }
   ],
   "source": [
    "analyzer.features.head()"
   ]
  },
  {
   "cell_type": "markdown",
   "metadata": {},
   "source": [
    "Dataframe to map genes, variants, molecular profiles and evidence items"
   ]
  },
  {
   "cell_type": "code",
   "execution_count": 179,
   "metadata": {},
   "outputs": [
    {
     "data": {
      "application/vnd.microsoft.datawrangler.viewer.v0+json": {
       "columns": [
        {
         "name": "index",
         "rawType": "int64",
         "type": "integer"
        },
        {
         "name": "gene_id",
         "rawType": "int32",
         "type": "integer"
        },
        {
         "name": "variant_id",
         "rawType": "int32",
         "type": "integer"
        },
        {
         "name": "molecular_profile_id",
         "rawType": "int32",
         "type": "integer"
        },
        {
         "name": "evidence_id",
         "rawType": "int32",
         "type": "integer"
        }
       ],
       "conversionMethod": "pd.DataFrame",
       "ref": "1f2f0b00-f6bb-4b3f-8b53-02df5ac30d6e",
       "rows": [
        [
         "0",
         "1",
         "8",
         "8",
         "32"
        ],
        [
         "1",
         "1",
         "8",
         "8",
         "33"
        ],
        [
         "2",
         "1",
         "8",
         "8",
         "37"
        ],
        [
         "3",
         "1",
         "8",
         "8",
         "38"
        ],
        [
         "4",
         "1",
         "8",
         "8",
         "125"
        ]
       ],
       "shape": {
        "columns": 4,
        "rows": 5
       }
      },
      "text/html": [
       "<div>\n",
       "<style scoped>\n",
       "    .dataframe tbody tr th:only-of-type {\n",
       "        vertical-align: middle;\n",
       "    }\n",
       "\n",
       "    .dataframe tbody tr th {\n",
       "        vertical-align: top;\n",
       "    }\n",
       "\n",
       "    .dataframe thead th {\n",
       "        text-align: right;\n",
       "    }\n",
       "</style>\n",
       "<table border=\"1\" class=\"dataframe\">\n",
       "  <thead>\n",
       "    <tr style=\"text-align: right;\">\n",
       "      <th></th>\n",
       "      <th>gene_id</th>\n",
       "      <th>variant_id</th>\n",
       "      <th>molecular_profile_id</th>\n",
       "      <th>evidence_id</th>\n",
       "    </tr>\n",
       "  </thead>\n",
       "  <tbody>\n",
       "    <tr>\n",
       "      <th>0</th>\n",
       "      <td>1</td>\n",
       "      <td>8</td>\n",
       "      <td>8</td>\n",
       "      <td>32</td>\n",
       "    </tr>\n",
       "    <tr>\n",
       "      <th>1</th>\n",
       "      <td>1</td>\n",
       "      <td>8</td>\n",
       "      <td>8</td>\n",
       "      <td>33</td>\n",
       "    </tr>\n",
       "    <tr>\n",
       "      <th>2</th>\n",
       "      <td>1</td>\n",
       "      <td>8</td>\n",
       "      <td>8</td>\n",
       "      <td>37</td>\n",
       "    </tr>\n",
       "    <tr>\n",
       "      <th>3</th>\n",
       "      <td>1</td>\n",
       "      <td>8</td>\n",
       "      <td>8</td>\n",
       "      <td>38</td>\n",
       "    </tr>\n",
       "    <tr>\n",
       "      <th>4</th>\n",
       "      <td>1</td>\n",
       "      <td>8</td>\n",
       "      <td>8</td>\n",
       "      <td>125</td>\n",
       "    </tr>\n",
       "  </tbody>\n",
       "</table>\n",
       "</div>"
      ],
      "text/plain": [
       "   gene_id  variant_id  molecular_profile_id  evidence_id\n",
       "0        1           8                     8           32\n",
       "1        1           8                     8           33\n",
       "2        1           8                     8           37\n",
       "3        1           8                     8           38\n",
       "4        1           8                     8          125"
      ]
     },
     "execution_count": 179,
     "metadata": {},
     "output_type": "execute_result"
    }
   ],
   "source": [
    "analyzer.civic_map.head()"
   ]
  },
  {
   "cell_type": "markdown",
   "metadata": {},
   "source": [
    "All molecular profiles loaded from a static file, created using civicpy."
   ]
  },
  {
   "cell_type": "code",
   "execution_count": 180,
   "metadata": {},
   "outputs": [
    {
     "data": {
      "application/vnd.microsoft.datawrangler.viewer.v0+json": {
       "columns": [
        {
         "name": "index",
         "rawType": "int64",
         "type": "integer"
        },
        {
         "name": "molecular_profile_id",
         "rawType": "int64",
         "type": "integer"
        },
        {
         "name": "molecular_profile_name",
         "rawType": "object",
         "type": "string"
        },
        {
         "name": "summary",
         "rawType": "object",
         "type": "string"
        },
        {
         "name": "molecular_profile_score",
         "rawType": "float64",
         "type": "float"
        }
       ],
       "conversionMethod": "pd.DataFrame",
       "ref": "2701979f-c4e9-4eda-84e6-72a35ac812cf",
       "rows": [
        [
         "0",
         "1",
         "BCR::ABL1 Fusion",
         "The BCR-ABL fusion protein, commonly referred to as the Philadelphia chromosome, is one of the most studied fusion genes in cancer. It has widely been considered the initiating event in chronic myelogenous leukemia (CML). However, despite its ability to initiate disease in mice, its status as an initiating mutation is in dispute. In what is commonly used as the poster-child for targeted therapeutics, the development and use of imatinib in the clinic has led to profound improvements in the prognosis of the disease. However, imatinib resistance is still seen in patients with mutations in the ABL kinase domain of the fusion, most notably the T315I variant. In patients resistant to imatinib, either acquired or otherwise, second generation BCR-ABL TKI's (dasatinib and nilotinib) have seen some success in delivering a tumor response. Third generation ABL1 inhibitor ponatinib is the only FDA approved drug with activity against T315I . However due to risk of life-threatening blood clots and severe narrowing of blood vessels ponatinib is ONLY approved for T315I-positive CML or T315I-positive Ph+ ALL or in cases of CML, Ph+ ALL with resistance or intolerance to other approved ABL1 inhibitors.",
         "353.5"
        ],
        [
         "1",
         "2",
         "ABL1 T315I",
         "While the efficacy of imatinib has revolutionized chronic myelogenous leukemia (CML) treatment, it is still not a cure-all. Both initial resistance and acquired resistance as a result of selection have been seen in a small subset of CML patients. The ABL kinase domain mutation T315I (aka T334I) has been shown to be one such mutation that confers resistance to imatinib. Second generation TKI's (dasatinib and ponatinib) specific to BCR-ABL have shown efficacy in treating resistant cases.",
         "0.0"
        ],
        [
         "2",
         "3",
         "ABL1 E255K",
         "While the efficacy of imatinib has revolutionized chronic myelogenous leukemia (CML) treatment, it is still not a cure-all. Both initial resistance and acquired resistance as a result of selection have been seen in a small subset of CML patients. The ABL kinase domain mutation E255K has been shown to be one such mutation that confers resistance to imatinib. Second generation TKI's (dasatinib and nilotinib) specific to BCR-ABL have shown efficacy in treating resistant cases.",
         "0.0"
        ],
        [
         "3",
         "4",
         "AKT1 E17K",
         "AKT1 E17K is a recurrent mutation that has been observed in breast, colorectal, lung, and ovarian cancer. It has been convincingly shown to be an activating mutation resulting in PI3K/AKT/mTOR pathway activity. It has been suggested that this mutation decreases the cell's sensitivity to AKT1 allosteric kinase inhibitors. This, and other AKT1 mutations, are the subject of much research and development for therapeutics.",
         "33.5"
        ],
        [
         "4",
         "5",
         "EML4::ALK Fusion",
         "The EML4-ALK fusion variant 1 consisting of ALK kinase domain (exons 20-29) fused to EML4 exons 1-13 is the most common EML4-ALK variant, and was discovered in non-small cell lung cancer. Multiple EML4 breakpoint shave been described with differential sensitivity to inhibitors with variant 1 showing greater sensitivity than 3a in cell lines. EML4-ALK is crizotinib sensitive; however, several mutations that confer resistance mutations have been described in case studies. In the only clinical trial for crizotinib that included determination of EML4-ALK variant type in a subset of its participants, a very high response rate was observed, although the numbers were insufficient to validate correlation of variant type to outcome. Preclinical studies with this variant have indicated sensitivity to Hsp90 inhibitors.",
         "48.0"
        ]
       ],
       "shape": {
        "columns": 4,
        "rows": 5
       }
      },
      "text/html": [
       "<div>\n",
       "<style scoped>\n",
       "    .dataframe tbody tr th:only-of-type {\n",
       "        vertical-align: middle;\n",
       "    }\n",
       "\n",
       "    .dataframe tbody tr th {\n",
       "        vertical-align: top;\n",
       "    }\n",
       "\n",
       "    .dataframe thead th {\n",
       "        text-align: right;\n",
       "    }\n",
       "</style>\n",
       "<table border=\"1\" class=\"dataframe\">\n",
       "  <thead>\n",
       "    <tr style=\"text-align: right;\">\n",
       "      <th></th>\n",
       "      <th>molecular_profile_id</th>\n",
       "      <th>molecular_profile_name</th>\n",
       "      <th>summary</th>\n",
       "      <th>molecular_profile_score</th>\n",
       "    </tr>\n",
       "  </thead>\n",
       "  <tbody>\n",
       "    <tr>\n",
       "      <th>0</th>\n",
       "      <td>1</td>\n",
       "      <td>BCR::ABL1 Fusion</td>\n",
       "      <td>The BCR-ABL fusion protein, commonly referred ...</td>\n",
       "      <td>353.5</td>\n",
       "    </tr>\n",
       "    <tr>\n",
       "      <th>1</th>\n",
       "      <td>2</td>\n",
       "      <td>ABL1 T315I</td>\n",
       "      <td>While the efficacy of imatinib has revolutioni...</td>\n",
       "      <td>0.0</td>\n",
       "    </tr>\n",
       "    <tr>\n",
       "      <th>2</th>\n",
       "      <td>3</td>\n",
       "      <td>ABL1 E255K</td>\n",
       "      <td>While the efficacy of imatinib has revolutioni...</td>\n",
       "      <td>0.0</td>\n",
       "    </tr>\n",
       "    <tr>\n",
       "      <th>3</th>\n",
       "      <td>4</td>\n",
       "      <td>AKT1 E17K</td>\n",
       "      <td>AKT1 E17K is a recurrent mutation that has bee...</td>\n",
       "      <td>33.5</td>\n",
       "    </tr>\n",
       "    <tr>\n",
       "      <th>4</th>\n",
       "      <td>5</td>\n",
       "      <td>EML4::ALK Fusion</td>\n",
       "      <td>The EML4-ALK fusion variant 1 consisting of AL...</td>\n",
       "      <td>48.0</td>\n",
       "    </tr>\n",
       "  </tbody>\n",
       "</table>\n",
       "</div>"
      ],
      "text/plain": [
       "   molecular_profile_id molecular_profile_name  \\\n",
       "0                     1       BCR::ABL1 Fusion   \n",
       "1                     2             ABL1 T315I   \n",
       "2                     3             ABL1 E255K   \n",
       "3                     4              AKT1 E17K   \n",
       "4                     5       EML4::ALK Fusion   \n",
       "\n",
       "                                             summary  molecular_profile_score  \n",
       "0  The BCR-ABL fusion protein, commonly referred ...                    353.5  \n",
       "1  While the efficacy of imatinib has revolutioni...                      0.0  \n",
       "2  While the efficacy of imatinib has revolutioni...                      0.0  \n",
       "3  AKT1 E17K is a recurrent mutation that has bee...                     33.5  \n",
       "4  The EML4-ALK fusion variant 1 consisting of AL...                     48.0  "
      ]
     },
     "execution_count": 180,
     "metadata": {},
     "output_type": "execute_result"
    }
   ],
   "source": [
    "analyzer.profiles.head()"
   ]
  },
  {
   "cell_type": "markdown",
   "metadata": {},
   "source": [
    "Dictionary with gene description, summary (from myGeneInfo) and descripton of molecular profiles."
   ]
  },
  {
   "cell_type": "code",
   "execution_count": 181,
   "metadata": {},
   "outputs": [
    {
     "name": "stdout",
     "output_type": "stream",
     "text": [
      "CSF1R , Profiles Ids:  [-1, 2883, 2883, 2883]\n",
      "AREG , Profiles Ids:  [311, 311, 311, 311, 311, 311]\n",
      "AXL , Profiles Ids:  [647]\n",
      "MYB , Profiles Ids:  [2524, 4218, 4218, 4218, 4218, 4218, 5040]\n"
     ]
    },
    {
     "data": {
      "text/plain": [
       "{'CSF1R': {'Description': nan,\n",
       "  'Summary': 'The protein encoded by this gene is the receptor for colony stimulating factor 1, a cytokine which controls the production, differentiation, and function of macrophages. This receptor mediates most if not all of the biological effects of this cytokine. Ligand binding activates the receptor kinase through a process of oligomerization and transphosphorylation. The encoded protein is a tyrosine kinase transmembrane receptor and member of the CSF1/PDGF receptor family of tyrosine-protein kinases. Mutations in this gene have been associated with a predisposition to myeloid malignancy. The first intron of this gene contains a transcriptionally inactive ribosomal protein L7 processed pseudogene oriented in the opposite direction. Alternative splicing results in multiple transcript variants. Expression of a splice variant from an LTR promoter has been found in Hodgkin lymphoma (HL), HL cell lines and anaplastic large cell lymphoma. [provided by RefSeq, Mar 2017].',\n",
       "  'Molecular_profiles': []},\n",
       " 'AREG': {'Description': nan,\n",
       "  'Summary': 'The protein encoded by this gene is a member of the epidermal growth factor family. It is an autocrine growth factor as well as a mitogen for astrocytes, Schwann cells and fibroblasts. It is related to epidermal growth factor (EGF) and transforming growth factor alpha (TGF-alpha). The protein interacts with the EGF/TGF-alpha receptor to promote the growth of normal epithelial cells, and it inhibits the growth of certain aggressive carcinoma cell lines. It also functions in mammary gland, oocyte and bone tissue development. This gene is associated with a psoriasis-like skin phenotype, and is also associated with other pathological disorders, including various types of cancers and inflammatory conditions. [provided by RefSeq, Apr 2014].',\n",
       "  'Molecular_profiles': []},\n",
       " 'AXL': {'Description': nan,\n",
       "  'Summary': 'The protein encoded by this gene is a member of the Tyro3-Axl-Mer (TAM) receptor tyrosine kinase subfamily. The encoded protein possesses an extracellular domain which is composed of two immunoglobulin-like motifs at the N-terminal, followed by two fibronectin type-III motifs. It transduces signals from the extracellular matrix into the cytoplasm by binding to the vitamin K-dependent protein growth arrest-specific 6 (Gas6). This gene may be involved in several cellular functions including growth, migration, aggregation and anti-inflammation in multiple cell types. The encoded protein acts as a host cell receptor for multiple viruses, including Marburg, Ebola and Lassa viruses and is a candidate receptor for the SARS-CoV2 virus. [provided by RefSeq, Sep 2021].',\n",
       "  'Molecular_profiles': []},\n",
       " 'MYB': {'Description': nan,\n",
       "  'Summary': 'This gene encodes a protein with three HTH DNA-binding domains that functions as a transcription regulator. This protein plays an essential role in the regulation of hematopoiesis. This gene may be aberrently expressed or rearranged or undergo translocation in leukemias and lymphomas, and is considered to be an oncogene. Alternative splicing results in multiple transcript variants. [provided by RefSeq, Jan 2016].',\n",
       "  'Molecular_profiles': []}}"
      ]
     },
     "execution_count": 181,
     "metadata": {},
     "output_type": "execute_result"
    }
   ],
   "source": [
    "details_dict = analyzer.create_feature_details_dict()\n",
    "details_dict"
   ]
  },
  {
   "cell_type": "markdown",
   "metadata": {},
   "source": [
    "Features (genes) found in civicdb based on 'aliases'."
   ]
  },
  {
   "cell_type": "code",
   "execution_count": 182,
   "metadata": {},
   "outputs": [
    {
     "data": {
      "application/vnd.microsoft.datawrangler.viewer.v0+json": {
       "columns": [
        {
         "name": "index",
         "rawType": "int64",
         "type": "integer"
        },
        {
         "name": "feature_id",
         "rawType": "int64",
         "type": "integer"
        },
        {
         "name": "feature_name",
         "rawType": "object",
         "type": "string"
        },
        {
         "name": "aliases",
         "rawType": "object",
         "type": "string"
        },
        {
         "name": "description",
         "rawType": "object",
         "type": "unknown"
        }
       ],
       "conversionMethod": "pd.DataFrame",
       "ref": "25cb94f6-273b-4d1c-9bf0-bb4a28ef59a4",
       "rows": [
        [
         "1",
         "33",
         "CSF1R",
         "['BANDDOS', 'C-FMS', 'CD115', 'CSF-1R', 'CSF1R', 'CSFR', 'FIM2', 'FMS', 'GPSC', 'HDLS', 'HDLS1', 'M-CSF-R']",
         null
        ],
        [
         "45",
         "389",
         "AREG",
         "['AR', 'AREG', 'AREGB', 'CRDGF', 'SDGF']",
         null
        ],
        [
         "53",
         "533",
         "AXL",
         "['ARK', 'AXL', 'AXL3', 'JTK11', 'Tyro7', 'UFO']",
         null
        ],
        [
         "256",
         "3730",
         "MYB",
         "['Cmyb', 'MYB', 'c-myb', 'c-myb_CDS', 'efg']",
         null
        ]
       ],
       "shape": {
        "columns": 4,
        "rows": 4
       }
      },
      "text/html": [
       "<div>\n",
       "<style scoped>\n",
       "    .dataframe tbody tr th:only-of-type {\n",
       "        vertical-align: middle;\n",
       "    }\n",
       "\n",
       "    .dataframe tbody tr th {\n",
       "        vertical-align: top;\n",
       "    }\n",
       "\n",
       "    .dataframe thead th {\n",
       "        text-align: right;\n",
       "    }\n",
       "</style>\n",
       "<table border=\"1\" class=\"dataframe\">\n",
       "  <thead>\n",
       "    <tr style=\"text-align: right;\">\n",
       "      <th></th>\n",
       "      <th>feature_id</th>\n",
       "      <th>feature_name</th>\n",
       "      <th>aliases</th>\n",
       "      <th>description</th>\n",
       "    </tr>\n",
       "  </thead>\n",
       "  <tbody>\n",
       "    <tr>\n",
       "      <th>1</th>\n",
       "      <td>33</td>\n",
       "      <td>CSF1R</td>\n",
       "      <td>['BANDDOS', 'C-FMS', 'CD115', 'CSF-1R', 'CSF1R...</td>\n",
       "      <td>NaN</td>\n",
       "    </tr>\n",
       "    <tr>\n",
       "      <th>45</th>\n",
       "      <td>389</td>\n",
       "      <td>AREG</td>\n",
       "      <td>['AR', 'AREG', 'AREGB', 'CRDGF', 'SDGF']</td>\n",
       "      <td>NaN</td>\n",
       "    </tr>\n",
       "    <tr>\n",
       "      <th>53</th>\n",
       "      <td>533</td>\n",
       "      <td>AXL</td>\n",
       "      <td>['ARK', 'AXL', 'AXL3', 'JTK11', 'Tyro7', 'UFO']</td>\n",
       "      <td>NaN</td>\n",
       "    </tr>\n",
       "    <tr>\n",
       "      <th>256</th>\n",
       "      <td>3730</td>\n",
       "      <td>MYB</td>\n",
       "      <td>['Cmyb', 'MYB', 'c-myb', 'c-myb_CDS', 'efg']</td>\n",
       "      <td>NaN</td>\n",
       "    </tr>\n",
       "  </tbody>\n",
       "</table>\n",
       "</div>"
      ],
      "text/plain": [
       "     feature_id feature_name  \\\n",
       "1            33        CSF1R   \n",
       "45          389         AREG   \n",
       "53          533          AXL   \n",
       "256        3730          MYB   \n",
       "\n",
       "                                               aliases description  \n",
       "1    ['BANDDOS', 'C-FMS', 'CD115', 'CSF-1R', 'CSF1R...         NaN  \n",
       "45            ['AR', 'AREG', 'AREGB', 'CRDGF', 'SDGF']         NaN  \n",
       "53     ['ARK', 'AXL', 'AXL3', 'JTK11', 'Tyro7', 'UFO']         NaN  \n",
       "256       ['Cmyb', 'MYB', 'c-myb', 'c-myb_CDS', 'efg']         NaN  "
      ]
     },
     "execution_count": 182,
     "metadata": {},
     "output_type": "execute_result"
    }
   ],
   "source": [
    "analyzer.matching_features"
   ]
  },
  {
   "cell_type": "markdown",
   "metadata": {},
   "source": [
    "Dictionary enhanced with evidence items related to molecular profiles."
   ]
  },
  {
   "cell_type": "code",
   "execution_count": 183,
   "metadata": {},
   "outputs": [
    {
     "data": {
      "text/plain": [
       "{'CSF1R': {'Description': nan,\n",
       "  'Summary': 'The protein encoded by this gene is the receptor for colony stimulating factor 1, a cytokine which controls the production, differentiation, and function of macrophages. This receptor mediates most if not all of the biological effects of this cytokine. Ligand binding activates the receptor kinase through a process of oligomerization and transphosphorylation. The encoded protein is a tyrosine kinase transmembrane receptor and member of the CSF1/PDGF receptor family of tyrosine-protein kinases. Mutations in this gene have been associated with a predisposition to myeloid malignancy. The first intron of this gene contains a transcriptionally inactive ribosomal protein L7 processed pseudogene oriented in the opposite direction. Alternative splicing results in multiple transcript variants. Expression of a splice variant from an LTR promoter has been found in Hodgkin lymphoma (HL), HL cell lines and anaplastic large cell lymphoma. [provided by RefSeq, Mar 2017].',\n",
       "  'Molecular_profiles': [],\n",
       "  'Evidence': ['A comparison of tyrosine kinase inhibitors that target glioma tumour cells directly or the tumour microenvironment were tested on a PDGF-B-driven glioma genetically engineered mouse model (PDG). PDG mice with tumours <=40mm3 in size were treated for 7 days with PLX3397, vatalinib, dovitinib, or vehicle, and tumour volume was assessed by MRI. PLX3397 treated tumours showed regression or slowed growth from -40% to 140% compared to all vehicle treated tumours that progressed with tumour size increases of 150% to 930% over 7 days. When tumours were allowed to grow to a larger size (>40mm3) before treatment, PLX3397 reduced tumour growth by 97.5% compared to controls (P<0.0001). Immunoblots of tumour protein fractions showed the PLX3397 potently inhibited CSF-1R phosphorylation while vatalinib and dovitinib had modest effect. The effect of these inhibitors on cell viability was tested directly on PDGC23 and U-87MG glioma cells, as well as mouse bone-marrow derived macrophages (BMDMs) and human monocyte-derived macrophages (MDMs). PLX3397 had no effect on the survival of glioma cells but efficiently decreased viability of BMDM and MDM cells. Histological analysis of tumours after 7 days of treatment showed that PLX3397 decreased tumour nuclear density. Blinded histological analysis showed 90% of PLX3397 treated tumours being classified as grade II and 10% as grade III, compared to 100% scored as grade IV in the control group (P<0.0001). PLX3397 also significantly decreased proliferating cells and increased apoptotic cells relative to controls (P<0.0001). Further functional experiments show that PLX3397 treatment led to depolarization of M2-like TAMs and impaired the pro-tumourigenic functions of TAMs.',\n",
       "   'A comparison of tyrosine kinase inhibitors that target glioma tumour cells directly or the tumour microenvironment were tested on a PDGF-B-driven glioma genetically engineered mouse model (PDG). The CSF-1R inhibitor PLX3397 depolarized M2-like TAMs and caused reduced glioma tumour growth. In order to test whether PLX3397-induced changes in the glioma microenvironment affect sensitivity to the multi-tyrosine kinase inhibitors vatalanib and dovitinib in vivo, combination treatment with PLX3397 was administered to PDG mice for 7 days. Combination therapy caused greater tumour regression than PLX3397 alone in most tumours. Greater than 30% reduction in tumour volume was seen in 58.8% of the PLX3397 and vatalanib group and 76.5% of the PLX3397 and dovitinib group, but only 3.7% of mice treated with PLX3397 monotherapy. Both combination therapies induced significant tumour volume reduction when compared to PLX3397 alone (P<0.05 and P<0.001), as well as abolishing tumour cell proliferation and inducing apoptosis at similar or greater levels than PLX3397 alone. These results show the improved therapeutic efficacy of targeting glioma cells and TAMs concurrently.']},\n",
       " 'AREG': {'Description': nan,\n",
       "  'Summary': 'The protein encoded by this gene is a member of the epidermal growth factor family. It is an autocrine growth factor as well as a mitogen for astrocytes, Schwann cells and fibroblasts. It is related to epidermal growth factor (EGF) and transforming growth factor alpha (TGF-alpha). The protein interacts with the EGF/TGF-alpha receptor to promote the growth of normal epithelial cells, and it inhibits the growth of certain aggressive carcinoma cell lines. It also functions in mammary gland, oocyte and bone tissue development. This gene is associated with a psoriasis-like skin phenotype, and is also associated with other pathological disorders, including various types of cancers and inflammatory conditions. [provided by RefSeq, Apr 2014].',\n",
       "  'Molecular_profiles': [],\n",
       "  'Evidence': ['47 HNSCC patients treated with cetuximab/docetaxel were retrospectively analyzed for EGFRvIII, EGFR and AREG expression with IHC. 45% of cases expressed high level of AREG. High AREG expression in tumor cells was associated with reduced overall survival  (hazard ratio: 2.2, P = 0.002) and progression free survival (hazard ratio: 2.2, P = 0.016) compared to patients with low AREG expression score. AREG was an independent prognosticator of OS in multivariate Cox analysis. High EGFRvIII and AREG expression levels identified SCCHN (squamous cell carcinoma, head and neck) patients that were less likely to benefit from combination treatment with cetuximab and docetaxel.',\n",
       "   'Prospectively planned retrospective biomarker study in archived tumor tissue from 323 patients from the PICCOLO trial (panitumumab plus irinotecan in CRC patients with KRAS wt). Tumors were classified as \"high expressor\" (either EREG or AREG mRNA level) or \"low expressor\" (neither EREG nor AREG in top tertile). \\nFor RAS wild-type patients with high ligand expression, median PFS was 8.3 [4.0-11.0] months (irinotecan with panitumumab) vs 4.4 [2.8-6.7] months (irinotecan alone); HR, 0.38 [95% CI, 0.24-0.61]; P\\u2009<\\u2009.001. In RAS wild-type patients with low ligand expression, median PFS was 3.2 [2.7-8.1] months (irinotecan with panitumumab) vs 4.0 [2.7-7.5] months (irinotecan); HR, 0.93 [95% CI, 0.64-1.37]; P\\u2009=\\u2009.73; interaction test results were significant [P\\u2009=\\u2009.01]). Results were less clear for response rate (interaction P\\u2009=\\u2009.17) and OS (interaction P\\u2009=\\u2009.11).',\n",
       "   'A cell line (DFCI076) with EML1-ALK fusion and resistance mutation L1152R showed no response to ALK inhibition with crizotinib or TAE684. There was co-dependancy on AKT and EGFR-signaling and inhibition of both pathways led to decreased cell-growth. Amphiregulin (AREG) production was identified as a potential mediator of EGFR-activation (no other alterations detectable). The same mechanism could be reproduced in a cell line (H3122) without EML1-ALK mutation and resistance to crizotinib that was acquired in-vitro.',\n",
       "   '226 cetuximab-treated patients with colorectal cancer (CRC) were analyzed for mRNA expression (by qPCR) of EGFR and its ligands (EGF, TGFA, AREG and EREG). High AREG mRNA expression in KRAS wild type tumours was a favorable predictor in a multivariate analysis (median survival 33 vs. 15\\u2009months, p=0.0005).  \\nCetuximab-treated patients with AREG-low KRAS wild type CRC had poor survival, similar to KRAS mutated CRC.',\n",
       "   '47 HNSCC patients treated with cetuximab/docetaxel were retrospectively analyzed for EGFRvIII, EGFR and AREG expression with IHC. 45% of cases expressed high level of AREG. High AREG expression in tumor cells was associated with reduced OS (HR: 2.2, P = 0.002) and PFS (HR 2.2, P = 0.019) compared with patients with low expression score. AREG was an independent prognosticator of OS in multivariate Cox analysis.',\n",
       "   'Five patients with acquired resistance to crizotinib showed high concentration of amphiregulin in malignant pleural effusions.']},\n",
       " 'AXL': {'Description': nan,\n",
       "  'Summary': 'The protein encoded by this gene is a member of the Tyro3-Axl-Mer (TAM) receptor tyrosine kinase subfamily. The encoded protein possesses an extracellular domain which is composed of two immunoglobulin-like motifs at the N-terminal, followed by two fibronectin type-III motifs. It transduces signals from the extracellular matrix into the cytoplasm by binding to the vitamin K-dependent protein growth arrest-specific 6 (Gas6). This gene may be involved in several cellular functions including growth, migration, aggregation and anti-inflammation in multiple cell types. The encoded protein acts as a host cell receptor for multiple viruses, including Marburg, Ebola and Lassa viruses and is a candidate receptor for the SARS-CoV2 virus. [provided by RefSeq, Sep 2021].',\n",
       "  'Molecular_profiles': [],\n",
       "  'Evidence': ['Immunohistochemical analysis of tumors from 116 esophageal squamous cell carcinoma found that expression of AXL was associated with increased progression of the tumor (P < 0.0001), increased risk of death (HR = 2.09 ; P = 0.028), and increased risk of distant metastasis (OR = 3.96 ; P = 0.029).']},\n",
       " 'MYB': {'Description': nan,\n",
       "  'Summary': 'This gene encodes a protein with three HTH DNA-binding domains that functions as a transcription regulator. This protein plays an essential role in the regulation of hematopoiesis. This gene may be aberrently expressed or rearranged or undergo translocation in leukemias and lymphomas, and is considered to be an oncogene. Alternative splicing results in multiple transcript variants. [provided by RefSeq, Jan 2016].',\n",
       "  'Molecular_profiles': [],\n",
       "  'Evidence': ['Copy-number analysis was performed on 44 diffuse pediatric low-grade gliomas (PLGGs) to identify recurrent alterations. The most significant event, focal 8q13.1 gain, was observed in 28% (5/18) of diffuse astrocytoma grade IIs (DA2), resulting in partial duplication of the transcription factor MYBL1 with truncation of its C-terminal negative-regulatory domain. A recurrent deletion-truncation breakpoint between exons 10 and 11 of MYB on 6q23.3 was identified in two of four angiocentric gliomas (AGs). This study did not mention the partner genes involved in the MYB rearrangements in the two AGs. The results define clinically relevant molecular subclasses of diffuse PLGGs and highlight a potential role for the MYB family in the biology of low-grade gliomas.',\n",
       "   'The study compiled the clinicopathologic and molecular features of 46 gliomas with a MYB or MYBL1 alteration diagnosed at a single center. The tumors showed low-grade histopathologic features and were broadly classified as diffuse astrocytoma (n = 11) or angiocentric glioma (n=35). Molecular alterations interrogated by immunohistochemistry (n=46), RNA sequencing (n=29), FISH (n=24), or PCR-based sequencing (n=11) revealed MYB (n=44) or MYBL1 (n=2) alterations in all tumors. None had alterations in IDH1, IDH2, TP53, ATRX, or histone H3 genes. Regardless of histopathologic diagnosis or anatomic location, DNA methylome profiling on 35 MYB/MYBL1-altered gliomas formed a single cluster, supporting that MYB/MYBL1-altered gliomas represent a single disease entity with a range of clinical and pathologic characteristics. Of the 11 diffuse astrocytomas with MYB (n=9) and MYBL1 (n=2) rearrangements, 9 had identified gene partners, including PCDHGA1 (n=5), LOC154902 (n=1), MMP16 (n=1), and MAML2 (n=1) with MYB and MMP16 (n=1) with MYBL1.',\n",
       "   \"Histological, molecular, and clinical analysis of 26 histologically prototypical isomorphic diffuse gliomas with a specific DNA methylation profile distinct from other glial/glio-neuronal brain tumors and normal hemispheric tissue were found to be most closely related to pediatric MYB/MYBL1-altered diffuse astrocytomas and angiocentric gliomas. IDH1/2-wildtype status was verified by Sanger sequencing of 24 cases with sufficient DNA. Integrating copy number and RNA sequencing data demonstrated MYBL1 (n=14) or MYB (n=6) alterations in 77% (20/26) of these tumors. Three tumors had MYB fusions with the gene partners, including HMG20A (n=1) and PCDHGA1 (n=2). These gene fusions resulted in a deletion of the C-terminal negative regulatory C-myb domain and/or a loss of the negative regulatory 3' miRNA-binding sites with an associated increase in MYB expression. Copy number analysis revealed gain or loss involving MYB in 3 tumors, including one tumor with gains involving both MYB and HMG20A resulting in two different MYB::HMG20A fusions and two tumors without MYB fusions detected. Increased MYB expression was observed in four (4/6) tumors\",\n",
       "   'MYB amplification was detected in 28 of 263 patients with PLGGs using Fluorescence In situ hybridization (FISH) analysis. The amplification of MYB was strongly associated with greater progression-free survival (p=0.04) but did not affect overall survival (p=0.13) [amplified (n=19) vs not amplified (n=177)]. MYB amplification was not an independent prognostic factor in multivariate analysis.',\n",
       "   \"A research study performed in 2010 involved 57 pediatric low-grade gliomas (LGGs) and a comparison group of 59 pediatric high-grade gliomas (HGGs). Among the LGG group, there were 34 cases of pilocytic astrocytomas (PAs) and 23 cases of diffuse gliomas, which included fibrillary astrocytomas (DA, n=14), oligodendroglial tumors (n=7), and angiocentric gliomas (AG, n=2). The study utilized SNP arrays and FISH to detect MYB rearrangements and quantitative RT-PCR and immunohistochemistry (IMHC) to analyze MYB expression levels. Gains involving MYB and MYB amplifications that upregulate MYB RNA and protein expression were demonstrated in 2/14 diffuse astrocytomas (DAs). No MYB fusions were detected in the two DAs, but the sequence from one DA was found to terminate within MYB exon 9. In addition, the study revealed increased MYB expression in both AGs, with one AG showing a focal deletion in the 3' terminal region of MYB. Overall, increased MYB expression by RT-PCR was seen in 8 LGGs, including 5 DAs, 2 AGs, and 1 oligodendroglioma, and in all three cases with MYB copy number aberrations. IMHC revealed an increase in MYB expression at the protein level in 60% of LGGs including 41% of PAs, and 19% of HGGs. Notably, genomic abnormalities were exclusively observed in diffuse gliomas. The findings suggest that MYB dysregulation may contribute to pediatric gliomas, particularly in diffuse gliomas, through various mechanisms beyond amplification and deletion.\",\n",
       "   'Comprehensive molecular studies (through whole genome, whole exome, transcriptome sequencing, genome-wide copy number analysis, clustering analysis by DNA methylation profiling, mutation hotspot analysis by Sanger sequencing, and FISH) were performed in a cohort of 91 low-grade neuroepithelial tumors (LGNTs), including diffuse astrocytomas, angiocentric gliomas, gangliogliomas, dysembryoplastic neuroepithelial tumors, oligodendrogliomas, and oligoastrocytomas. Molecular alterations were detected in 31/32 (97%) of LGNTs with an astrocytic morphology, including 17 diffuse astrocytomas and 15 angiocentric gliomas, and no IDH mutations were detected in these tumors. MYB (n=5) or MYBL1 (n=2) rearrangement fusions were detected in 41% (7/17) of diffuse astrocytomas, while the remaining tumors had alternations involving BRAF (n = 4), FGFR1/3 (n = 4), and others (n = 2). The gene partners involving MYB fusions in diffuse astrocytomas included PCDHGA1, LOC154902, and MMP16 and the gene parterners involivng MYBL included MMP16. In contrast, a MYB fusion (most frequently MYB::QKI) characterized almost all angiocentric gliomas (14–15). Only one other tumor across the series (an oligodendroglioma) had a MYB fusion (MYB::MAML2). MYB/MYBL-altered LGNTs clustered together with methylation profiling. The findings in LGNT with a predominantly astrocytic phenotype associating with MYB/MYBL alterations suggest a role of MYB/MYBL in these tumor categories with distinct characteristics.',\n",
       "   \"A research study performed in 2010 involved 57 pediatric low-grade gliomas (LGGs) and a comparison group of 59 pediatric high-grade gliomas (HGGs). Among the LGG group, there were 34 cases of pilocytic astrocytomas (PAs) and 23 cases of diffuse gliomas, which included fibrillary astrocytomas (DAs, n=14), oligodendroglial tumors (n=7), and angiocentric gliomas (AGs, n=2). The study utilized SNP arrays and FISH to detect MYB rearrangements, and quantitative RT-PCR and immunohistochemistry (IMHC) to analyze MYB expression levels. Results revealed increased MYB expression in both AGs, with one AG showing a focal deletion in the 3' terminal region of MYB. Overall, increased MYB expression by RT-PCR was seen in 8 LGGs, including 5 DAs, 2 AGs, and 1 oligodendroglioma, and all three cases with MYB copy number aberrations. IMHC revealed an increase in MYB expression at the protein level in 60% of LGGs) including 41% of PAs, and 19% of HGGs. Notably, genomic abnormalities were exclusively observed in diffuse gliomas.The findings suggest that MYB dysregulation may contribute to pediatric gliomas through various mechanisms beyond amplification and deletion.\"]}}"
      ]
     },
     "execution_count": 183,
     "metadata": {},
     "output_type": "execute_result"
    }
   ],
   "source": [
    "details_dict = analyzer.add_evidence_to_dict()\n",
    "details_dict"
   ]
  },
  {
   "cell_type": "markdown",
   "metadata": {},
   "source": [
    "Save dictionary to JSON"
   ]
  },
  {
   "cell_type": "code",
   "execution_count": 184,
   "metadata": {},
   "outputs": [
    {
     "name": "stderr",
     "output_type": "stream",
     "text": [
      "INFO:root:JSON data saved to c:\\Users\\owysocky\\Documents\\GitHub\\CCE_scGeneRAI\\source\\investigate_and_compare/civic_feature_details.json\n"
     ]
    }
   ],
   "source": [
    "analyzer.to_json()\n",
    "analyzer.save_json_to_file(path_to_save)"
   ]
  },
  {
   "cell_type": "markdown",
   "metadata": {},
   "source": [
    "# TESTS"
   ]
  },
  {
   "cell_type": "code",
   "execution_count": 187,
   "metadata": {},
   "outputs": [
    {
     "data": {
      "application/vnd.microsoft.datawrangler.viewer.v0+json": {
       "columns": [
        {
         "name": "index",
         "rawType": "int64",
         "type": "integer"
        },
        {
         "name": "feature_id",
         "rawType": "int64",
         "type": "integer"
        },
        {
         "name": "feature_name",
         "rawType": "object",
         "type": "string"
        },
        {
         "name": "aliases",
         "rawType": "object",
         "type": "string"
        },
        {
         "name": "description",
         "rawType": "object",
         "type": "unknown"
        }
       ],
       "conversionMethod": "pd.DataFrame",
       "ref": "d930ec5a-a447-4f7d-a581-a07c820a8051",
       "rows": [
        [
         "0",
         "32",
         "MEF2D",
         "['MEF2D']",
         null
        ],
        [
         "1",
         "33",
         "CSF1R",
         "['BANDDOS', 'C-FMS', 'CD115', 'CSF-1R', 'CSF1R', 'CSFR', 'FIM2', 'FMS', 'GPSC', 'HDLS', 'HDLS1', 'M-CSF-R']",
         null
        ],
        [
         "2",
         "34",
         "MGMT",
         "['MGMT']",
         null
        ],
        [
         "3",
         "36",
         "NRAS",
         "['ALPS4', 'CMNS', 'KRAS', 'N-ras', 'NCMS', 'NRAS', 'NRAS1', 'NS6']",
         "Mutations in the RAS family of proteins have frequently been observed across cancer types. The amino acid positions G12, G13 and Q61 account for the overwhelming majority of these mutations. The isoforms, despite their raw similarity, also behave very differently when expressed in non-native tissue types, likely due to differences in the C-terminal hyper-variable regions. Mis-regulation of isoform expression has been shown to be a driving event in cancer, as well as missense mutations at the three hotspots previously mentioned. While highly recurrent in cancer, targeting these RAS mutants has also been very elusive, and has not yet become common practice in the clinic."
        ],
        [
         "4",
         "37",
         "PIK3CA",
         "['CCM4', 'CLAPO', 'CLOVE', 'CWS5', 'HMH', 'MCAP', 'MCM', 'MCMTC', 'PI3K', 'PI3K-alpha', 'PIK3CA', 'p110-alpha']",
         "PIK3CA is the most recurrently mutated gene in breast cancer, and has been found to important in a number of cancer types. An integral part of the PI3K pathway, PIK3CA has long been described as an oncogene, with two main hotspots for activating mutations, the 542/545 region of the helical domain, and the 1047 region of the kinase domain. PIK3CA, and its interaction with the AKT and mTOR pathways, is the subject of an immense amount of research and development, and PI3K inhibition has seen some limited success in recent clinical trials. While monotherapies seem to be limited in their potential, there is a recent interest in pursuing PI3K inhibition as part of a combination therapy regiment with inhibition partners including TKI's, MEK inhibitors, PARP inhibitors, and in breast cancer, aromatase inhibitors."
        ],
        [
         "5",
         "46",
         "TSC1",
         "['LAM', 'TSC', 'TSC1']",
         null
        ],
        [
         "6",
         "47",
         "TSC2",
         "['LAM', 'PPP1R160', 'TSC2', 'TSC4']",
         null
        ],
        [
         "7",
         "49",
         "WT1",
         "['AWT1', 'GUD', 'NPHS4', 'WAGR', 'WIT-2', 'WT-1', 'WT1', 'WT33']",
         "WT1 is a tumor suppressor gene associated with the development of Wilms' Tumor, from which it was named. Mutations in exon 7 and 9 of WT1 have been recurrently identified in acute myeloid leukemia and associated with poorer prognosis and chemotherapy resistance."
        ],
        [
         "8",
         "51",
         "DDR2",
         "['DDR2', 'MIG20a', 'NTRKR3', 'TKT', 'TYRO10', 'WRCN']",
         null
        ],
        [
         "9",
         "53",
         "FLI1",
         "['BDPLT21', 'EWSR2', 'FLI-1', 'FLI1', 'SIC-1']",
         null
        ],
        [
         "10",
         "55",
         "TET2",
         "['IMD75', 'KIAA1546', 'MDS', 'TET2']",
         null
        ],
        [
         "11",
         "56",
         "FOXP1",
         "['12CC4', 'FOXP1', 'HSPC215', 'MFH', 'QRF1', 'hFKH1B']",
         null
        ],
        [
         "12",
         "57",
         "REL",
         "['C-Rel', 'HIVEN86A', 'IMD92', 'REL']",
         null
        ],
        [
         "13",
         "59",
         "BCL2",
         "['BCL2', 'Bcl-2', 'PPP1R50']",
         null
        ],
        [
         "14",
         "60",
         "IGF2",
         "['C11orf43', 'GRDF', 'IGF-II', 'IGF2', 'PP9974', 'SRS3']",
         null
        ],
        [
         "15",
         "61",
         "AURKA",
         "['AIK', 'ARK1', 'AURA', 'AURKA', 'BTAK', 'PPP1R47', 'STK15', 'STK6', 'STK7']",
         null
        ],
        [
         "16",
         "62",
         "PBRM1",
         "['BAF180', 'PB1', 'PBRM1', 'RCC', 'SMARCH1']",
         null
        ],
        [
         "17",
         "63",
         "EZH2",
         "['ENX-1', 'ENX1', 'EZH2', 'EZH2b', 'KMT6', 'KMT6A', 'WVS', 'WVS2']",
         null
        ],
        [
         "18",
         "64",
         "KMT2D",
         "['AAD10', 'ALR', 'BCAHH', 'CAGL114', 'KABUK1', 'KMS', 'KMT2D', 'MLL2', 'MLL4', 'TNRC21']",
         null
        ],
        [
         "19",
         "65",
         "BTK",
         "['AGMX1', 'AT', 'ATK', 'BPK', 'BTK', 'IGHD3', 'IMD1', 'PSCTK1', 'XLA']",
         null
        ],
        [
         "20",
         "66",
         "APC",
         "['APC', 'BTPS2', 'DESMD', 'DP2', 'DP2.5', 'DP3', 'GS', 'PPP1R46']",
         null
        ],
        [
         "21",
         "67",
         "AR",
         "['AIS', 'AR', 'AR8', 'DHTR', 'HUMARA', 'HYSP1', 'KD', 'NR3C4', 'SBMA', 'SMAX1', 'TFM']",
         null
        ],
        [
         "22",
         "68",
         "ASXL1",
         "['ASXL1', 'BOPS', 'MDS']",
         null
        ],
        [
         "23",
         "71",
         "ERG",
         "['ERG', 'LMPHM14', 'erg-3', 'p55']",
         null
        ],
        [
         "24",
         "72",
         "FOXL2",
         "['BPES', 'BPES1', 'FOXL2', 'PFRK', 'PINTO', 'POF3']",
         null
        ],
        [
         "25",
         "73",
         "IKZF1",
         "['CVID13', 'Hs.54452', 'IK1', 'IKAROS', 'IKZF1', 'LYF1', 'LyF-1', 'PPP1R92', 'PRO0758', 'ZNFN1A1']",
         null
        ],
        [
         "26",
         "74",
         "NCOA3",
         "['ACTR', 'AIB-1', 'AIB1', 'CAGH16', 'CTG26', 'KAT13B', 'NCOA3', 'RAC3', 'SRC-3', 'SRC3', 'TNRC14', 'TNRC16', 'TRAM-1', 'bHLHe42', 'pCIP']",
         null
        ],
        [
         "27",
         "76",
         "PGR",
         "['NR3C3', 'PGR', 'PR']",
         null
        ],
        [
         "28",
         "77",
         "SMAD4",
         "['DPC4', 'JIP', 'MADH4', 'MYHRS', 'SMAD4']",
         null
        ],
        [
         "29",
         "78",
         "SMARCA4",
         "['BAF190', 'BAF190A', 'BRG1', 'CSS4', 'MRD16', 'OTSC12', 'RTPS2', 'SMARCA4', 'SNF2', 'SNF2-beta', 'SNF2L4', 'SNF2LB', 'SWI2', 'hSNF2b']",
         null
        ],
        [
         "30",
         "79",
         "TERT",
         "['CMM9', 'DKCA2', 'DKCB4', 'EST2', 'PFBMFT1', 'TCS1', 'TERT', 'TP2', 'TRT', 'hEST2', 'hTRT']",
         null
        ],
        [
         "31",
         "80",
         "TTF1",
         "['TTF-1', 'TTF-I', 'TTF1']",
         null
        ],
        [
         "32",
         "101",
         "ABL2",
         "['ABL2', 'ABLL', 'ARG']",
         null
        ],
        [
         "33",
         "128",
         "ACTA1",
         "['ACTA', 'ACTA1', 'ASMA', 'CFTD', 'CFTD1', 'CFTDM', 'CMYO2A', 'CMYO2B', 'CMYO2C', 'CMYP2A', 'CMYP2B', 'CMYP2C', 'MPFD', 'NEM1', 'NEM2', 'NEM3', 'SHPM']",
         null
        ],
        [
         "34",
         "130",
         "ACTB",
         "['ACTB', 'BKRNS', 'BNS', 'BRWS1', 'CSMH', 'DDS1', 'PS1TP5BP1', 'THC8']",
         null
        ],
        [
         "35",
         "150",
         "ACTL6A",
         "['ACTL6', 'ACTL6A', 'ARPN-BETA', 'Arp4', 'BAF53A', 'INO80K', 'SMARCN1']",
         null
        ],
        [
         "36",
         "154",
         "ACVR1",
         "['ACTRI', 'ACVR1', 'ACVR1A', 'ACVRLK2', 'ALK2', 'FOP', 'SKR1', 'TSRI']",
         null
        ],
        [
         "37",
         "199",
         "PARP1",
         "['ADPRT', 'ADPRT 1', 'ADPRT1', 'ARTD1', 'PARP', 'PARP-1', 'PARP1', 'PARS', 'PPOL', 'Poly-PARP', 'pADPRT-1']",
         null
        ],
        [
         "38",
         "221",
         "AEBP1",
         "['ACLP', 'AEBP1']",
         null
        ],
        [
         "39",
         "254",
         "AKT2",
         "['AKT2', 'HIHGHH', 'PKBB', 'PKBBETA', 'PRKBB', 'RAC-BETA']",
         null
        ],
        [
         "40",
         "259",
         "ALCAM",
         "['ALCAM', 'CD166', 'MEMD']",
         null
        ],
        [
         "41",
         "327",
         "ANXA2",
         "['ANX2', 'ANX2L4', 'ANXA2', 'CAL1H', 'HEL-S-270', 'LIP2', 'LPC2', 'LPC2D', 'P36', 'PAP-IV']",
         null
        ],
        [
         "42",
         "353",
         "BIRC3",
         "['AIP1', 'API2', 'BIRC3', 'CIAP2', 'HAIP1', 'HIAP1', 'IAP-1', 'MALT2', 'MIHC', 'RNF49', 'c-IAP2']",
         null
        ],
        [
         "43",
         "355",
         "BIRC5",
         "['API4', 'BIRC5', 'EPR-1']",
         null
        ],
        [
         "44",
         "375",
         "FAS",
         "['ALPS1A', 'APO-1', 'APT1', 'CD95', 'FAS', 'FAS1', 'FASTM', 'TNFRSF6']",
         null
        ],
        [
         "45",
         "389",
         "AREG",
         "['AR', 'AREG', 'AREGB', 'CRDGF', 'SDGF']",
         null
        ],
        [
         "46",
         "399",
         "RHOA",
         "['ARH12', 'ARHA', 'EDFAOB', 'RHO12', 'RHOA', 'RHOH12']",
         null
        ],
        [
         "47",
         "436",
         "ASCL1",
         "['ASCL1', 'ASH1', 'HASH1', 'MASH1', 'bHLHa46']",
         null
        ],
        [
         "48",
         "446",
         "ASNS",
         "['ASNS', 'ASNSD', 'TS11']",
         null
        ],
        [
         "49",
         "450",
         "ASS1",
         "['ASS', 'ASS1', 'CTLN1']",
         null
        ]
       ],
       "shape": {
        "columns": 4,
        "rows": 654
       }
      },
      "text/html": [
       "<div>\n",
       "<style scoped>\n",
       "    .dataframe tbody tr th:only-of-type {\n",
       "        vertical-align: middle;\n",
       "    }\n",
       "\n",
       "    .dataframe tbody tr th {\n",
       "        vertical-align: top;\n",
       "    }\n",
       "\n",
       "    .dataframe thead th {\n",
       "        text-align: right;\n",
       "    }\n",
       "</style>\n",
       "<table border=\"1\" class=\"dataframe\">\n",
       "  <thead>\n",
       "    <tr style=\"text-align: right;\">\n",
       "      <th></th>\n",
       "      <th>feature_id</th>\n",
       "      <th>feature_name</th>\n",
       "      <th>aliases</th>\n",
       "      <th>description</th>\n",
       "    </tr>\n",
       "  </thead>\n",
       "  <tbody>\n",
       "    <tr>\n",
       "      <th>0</th>\n",
       "      <td>32</td>\n",
       "      <td>MEF2D</td>\n",
       "      <td>['MEF2D']</td>\n",
       "      <td>NaN</td>\n",
       "    </tr>\n",
       "    <tr>\n",
       "      <th>1</th>\n",
       "      <td>33</td>\n",
       "      <td>CSF1R</td>\n",
       "      <td>['BANDDOS', 'C-FMS', 'CD115', 'CSF-1R', 'CSF1R...</td>\n",
       "      <td>NaN</td>\n",
       "    </tr>\n",
       "    <tr>\n",
       "      <th>2</th>\n",
       "      <td>34</td>\n",
       "      <td>MGMT</td>\n",
       "      <td>['MGMT']</td>\n",
       "      <td>NaN</td>\n",
       "    </tr>\n",
       "    <tr>\n",
       "      <th>3</th>\n",
       "      <td>36</td>\n",
       "      <td>NRAS</td>\n",
       "      <td>['ALPS4', 'CMNS', 'KRAS', 'N-ras', 'NCMS', 'NR...</td>\n",
       "      <td>Mutations in the RAS family of proteins have f...</td>\n",
       "    </tr>\n",
       "    <tr>\n",
       "      <th>4</th>\n",
       "      <td>37</td>\n",
       "      <td>PIK3CA</td>\n",
       "      <td>['CCM4', 'CLAPO', 'CLOVE', 'CWS5', 'HMH', 'MCA...</td>\n",
       "      <td>PIK3CA is the most recurrently mutated gene in...</td>\n",
       "    </tr>\n",
       "    <tr>\n",
       "      <th>...</th>\n",
       "      <td>...</td>\n",
       "      <td>...</td>\n",
       "      <td>...</td>\n",
       "      <td>...</td>\n",
       "    </tr>\n",
       "    <tr>\n",
       "      <th>649</th>\n",
       "      <td>41522</td>\n",
       "      <td>PRNCR1</td>\n",
       "      <td>['CARLo-3', 'PCAT8', 'PRNCR1']</td>\n",
       "      <td>NaN</td>\n",
       "    </tr>\n",
       "    <tr>\n",
       "      <th>650</th>\n",
       "      <td>41692</td>\n",
       "      <td>ELFN1-AS1</td>\n",
       "      <td>['ELFN1-AS1', 'MYCLo-2']</td>\n",
       "      <td>NaN</td>\n",
       "    </tr>\n",
       "    <tr>\n",
       "      <th>651</th>\n",
       "      <td>43065</td>\n",
       "      <td>PIK3CD-AS2</td>\n",
       "      <td>['PIK3CD-AS2']</td>\n",
       "      <td>NaN</td>\n",
       "    </tr>\n",
       "    <tr>\n",
       "      <th>652</th>\n",
       "      <td>56400</td>\n",
       "      <td>COX2</td>\n",
       "      <td>['COII', 'MTCO2']</td>\n",
       "      <td>NaN</td>\n",
       "    </tr>\n",
       "    <tr>\n",
       "      <th>653</th>\n",
       "      <td>56415</td>\n",
       "      <td>ND1</td>\n",
       "      <td>['MTND1']</td>\n",
       "      <td>NaN</td>\n",
       "    </tr>\n",
       "  </tbody>\n",
       "</table>\n",
       "<p>654 rows × 4 columns</p>\n",
       "</div>"
      ],
      "text/plain": [
       "     feature_id feature_name  \\\n",
       "0            32        MEF2D   \n",
       "1            33        CSF1R   \n",
       "2            34         MGMT   \n",
       "3            36         NRAS   \n",
       "4            37       PIK3CA   \n",
       "..          ...          ...   \n",
       "649       41522       PRNCR1   \n",
       "650       41692    ELFN1-AS1   \n",
       "651       43065   PIK3CD-AS2   \n",
       "652       56400         COX2   \n",
       "653       56415          ND1   \n",
       "\n",
       "                                               aliases  \\\n",
       "0                                            ['MEF2D']   \n",
       "1    ['BANDDOS', 'C-FMS', 'CD115', 'CSF-1R', 'CSF1R...   \n",
       "2                                             ['MGMT']   \n",
       "3    ['ALPS4', 'CMNS', 'KRAS', 'N-ras', 'NCMS', 'NR...   \n",
       "4    ['CCM4', 'CLAPO', 'CLOVE', 'CWS5', 'HMH', 'MCA...   \n",
       "..                                                 ...   \n",
       "649                     ['CARLo-3', 'PCAT8', 'PRNCR1']   \n",
       "650                           ['ELFN1-AS1', 'MYCLo-2']   \n",
       "651                                     ['PIK3CD-AS2']   \n",
       "652                                  ['COII', 'MTCO2']   \n",
       "653                                          ['MTND1']   \n",
       "\n",
       "                                           description  \n",
       "0                                                  NaN  \n",
       "1                                                  NaN  \n",
       "2                                                  NaN  \n",
       "3    Mutations in the RAS family of proteins have f...  \n",
       "4    PIK3CA is the most recurrently mutated gene in...  \n",
       "..                                                 ...  \n",
       "649                                                NaN  \n",
       "650                                                NaN  \n",
       "651                                                NaN  \n",
       "652                                                NaN  \n",
       "653                                                NaN  \n",
       "\n",
       "[654 rows x 4 columns]"
      ]
     },
     "execution_count": 187,
     "metadata": {},
     "output_type": "execute_result"
    }
   ],
   "source": [
    "# get features from the object\n",
    "features = civic_evidence_code.CivicEvidenceAnalyzer(path,[]).features\n",
    "features"
   ]
  },
  {
   "cell_type": "code",
   "execution_count": 201,
   "metadata": {},
   "outputs": [
    {
     "name": "stdout",
     "output_type": "stream",
     "text": [
      "0 15\n",
      "1 8\n",
      "2 4\n",
      "3 26\n",
      "4 8\n",
      "5 11\n",
      "6 4\n",
      "7 2\n",
      "8 26\n",
      "9 25\n",
      "10 14\n",
      "11 5\n",
      "12 28\n",
      "13 28\n",
      "14 18\n",
      "15 18\n",
      "16 6\n",
      "17 10\n",
      "18 16\n",
      "19 16\n",
      "20 16\n",
      "21 15\n",
      "22 5\n",
      "23 29\n",
      "24 27\n",
      "25 22\n",
      "26 28\n",
      "27 22\n",
      "28 7\n",
      "29 8\n",
      "30 18\n",
      "31 26\n",
      "32 21\n",
      "33 8\n",
      "34 28\n",
      "35 3\n",
      "36 14\n",
      "37 12\n",
      "38 7\n",
      "39 7\n",
      "40 25\n",
      "41 10\n",
      "42 1\n",
      "43 23\n",
      "44 20\n",
      "45 9\n",
      "46 16\n",
      "47 1\n",
      "48 14\n",
      "49 14\n",
      "50 4\n",
      "51 14\n",
      "52 14\n",
      "53 25\n",
      "54 26\n",
      "55 12\n",
      "56 12\n",
      "57 18\n",
      "58 13\n",
      "59 24\n",
      "60 12\n",
      "61 13\n",
      "62 24\n",
      "63 7\n",
      "64 14\n",
      "65 15\n",
      "66 6\n",
      "67 25\n",
      "68 21\n",
      "69 24\n",
      "70 14\n",
      "71 16\n",
      "72 3\n",
      "73 8\n",
      "74 27\n",
      "75 9\n",
      "76 11\n",
      "77 28\n",
      "78 20\n",
      "79 23\n",
      "80 2\n",
      "81 12\n",
      "82 25\n",
      "83 29\n",
      "84 16\n",
      "85 1\n",
      "86 18\n",
      "87 4\n",
      "88 11\n",
      "89 4\n",
      "90 26\n",
      "91 9\n",
      "92 26\n",
      "93 22\n",
      "94 22\n",
      "95 8\n",
      "96 16\n",
      "97 18\n",
      "98 4\n",
      "99 17\n"
     ]
    }
   ],
   "source": [
    "import numpy as np\n",
    "k = 100 # iterations\n",
    "for i in range(k):\n",
    "    # generante random n from range 1 to 30\n",
    "    n = np.random.randint(1, 30)\n",
    "    print(i, n)\n",
    "    random_features = features['feature_name'].sample(n).to_list()\n",
    "\n",
    "    analyzer = civic_evidence_code.CivicEvidenceAnalyzer(path, random_features)\n",
    "    analyzer.create_feature_details_dict()\n",
    "    analyzer.add_evidence_to_dict()\n",
    "\n",
    "    analyzer\n",
    "    "
   ]
  },
  {
   "cell_type": "code",
   "execution_count": null,
   "metadata": {},
   "outputs": [],
   "source": []
  },
  {
   "cell_type": "code",
   "execution_count": null,
   "metadata": {},
   "outputs": [],
   "source": []
  }
 ],
 "metadata": {
  "kernelspec": {
   "display_name": "Python 3",
   "language": "python",
   "name": "python3"
  },
  "language_info": {
   "codemirror_mode": {
    "name": "ipython",
    "version": 3
   },
   "file_extension": ".py",
   "mimetype": "text/x-python",
   "name": "python",
   "nbconvert_exporter": "python",
   "pygments_lexer": "ipython3",
   "version": "3.11.7"
  }
 },
 "nbformat": 4,
 "nbformat_minor": 2
}
